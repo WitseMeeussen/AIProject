{
 "cells": [
  {
   "cell_type": "code",
   "execution_count": null,
   "metadata": {},
   "outputs": [],
   "source": [
    "import numpy\n",
    "from keras.models import Sequential\n",
    "from keras.layers import Dense, Dropout, Flatten, BatchNormalization, Activation\n",
    "from keras.layers.convolutional import Conv2D, MaxPooling2D\n",
    "from keras.constraints import maxnorm\n",
    "from keras.utils import np_utils"
   ]
  },
  {
   "cell_type": "markdown",
   "metadata": {},
   "source": [
    "Data that is gathered contains the image(in tabular form like CIFAR). And the throttle and steering information.\n",
    "\n",
    "How is the imput information formated?\n",
    "    - steering is a number? or just categorical left right?\n",
    "    - throtle is a contiues number or categorical on-of * speedMultiplier\n",
    "    "
   ]
  },
  {
   "cell_type": "markdown",
   "metadata": {},
   "source": [
    "<h2>Important parts of the model:</h2>\n",
    "\n",
    "1. The model's calulation off loss is important\n",
    "\n",
    "2. the activation function of the output layer\n",
    "\n",
    "3. filters that are aplied to the images (optionaly important)"
   ]
  },
  {
   "cell_type": "code",
   "execution_count": null,
   "metadata": {},
   "outputs": [],
   "source": [
    "model = Sequential()\n",
    "model.add(Conv2D(32, (3, 3), input_shape = (64, 64, 3), activation = 'relu'))\n",
    "model.add(MaxPooling2D(pool_size = (2, 2)))\n",
    "model.add(Dropout(0.2))\n",
    "model.add(Conv2D(32, (3, 3), input_shape = (32, 32, 3), activation = 'relu'))\n",
    "model.add(MaxPooling2D(pool_size = (2, 2)))\n",
    "model.add(Dropout(0.2))\n",
    "model.add(Flatten())\n",
    "model.add(Dense(activation=\"relu\", units=128))\n",
    "model.add(Dense(activation=\"sigmoid\", units=5))\n",
    "model.compile(optimizer = 'adam', loss = 'categorical_hinge', metrics = ['accuracy'])"
   ]
  }
 ],
 "metadata": {
  "language_info": {
   "name": "python"
  },
  "orig_nbformat": 4
 },
 "nbformat": 4,
 "nbformat_minor": 2
}
